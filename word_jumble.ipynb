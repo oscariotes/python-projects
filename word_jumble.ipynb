{
 "cells": [
  {
   "cell_type": "markdown",
   "id": "f8568882",
   "metadata": {},
   "source": [
    "## Word Jumble Game:\n",
    "\n",
    "### Objective: Create a word jumble game where the player unscrambles a randomly chosen word.\n",
    "\n",
    "   #### Steps:\n",
    "       - Create a list of words.\n",
    "       - Randomly select a word from the list.\n",
    "       - Scramble the letters of the word to create a jumbled version.\n",
    "       - Display the jumbled word to the player.\n",
    "       - Prompt the player to unscramble the word.\n",
    "       - Validate the guess:\n",
    "            - If the guess matches the original word:\n",
    "               - Congratulate the player for unscrambling the word.\n",
    "            - If the guess is incorrect:\n",
    "                - Allow the player to try again.\n",
    "                - Display a hint (optional) if the player struggles.\n",
    "                \n",
    "        - Continue until the player correctly unscrambles the word or decides to quit.\n",
    "        \n",
    " ##### Hints for Implementation:\n",
    "    \n",
    "       - Create a function to scramble the letters of a word.\n",
    "       - Display the scrambled word and ask the player to unscramble it.\n",
    "       - Use string manipulation methods (like shuffling characters) to create the jumbled word.\n",
    "       - Provide hints if the player struggles to unscramble the word."
   ]
  },
  {
   "cell_type": "code",
   "execution_count": null,
   "id": "d41d80d1",
   "metadata": {},
   "outputs": [],
   "source": [
    "import random\n",
    "\n",
    "words = ['recover','society','assault','captain','freight','revenge','address','enlarge','release','arrange']\n",
    "\n",
    "\n",
    "randomWords = random.choice(words)\n",
    "lis = list(randomWords)\n",
    "random.shuffle(lis)\n",
    "newlis = ''.join(lis)\n",
    "\n",
    "def guess():\n",
    "\n",
    "    tries = 4\n",
    "    \n",
    "    while tries > 0:\n",
    "        guessedWord = input(f'Guess the word \"{newlis}\"')\n",
    "        if guessedWord == randomWords:\n",
    "            print('You get it right!')\n",
    "            break\n",
    "        else:\n",
    "            tries -= 1\n",
    "            if tries > 0:\n",
    "                print(f'Please try again You have {tries} remaining')\n",
    "            else:\n",
    "                print(f'Sorry it\\s over, the correct word is {randomWords}.')\n",
    "\n",
    "    \n",
    "            \n",
    "guess()\n",
    "        \n",
    "\n",
    "\n",
    "\n",
    "\n"
   ]
  },
  {
   "cell_type": "code",
   "execution_count": null,
   "id": "fb12e4c6",
   "metadata": {},
   "outputs": [],
   "source": []
  }
 ],
 "metadata": {
  "kernelspec": {
   "display_name": "Python 3 (ipykernel)",
   "language": "python",
   "name": "python3"
  },
  "language_info": {
   "codemirror_mode": {
    "name": "ipython",
    "version": 3
   },
   "file_extension": ".py",
   "mimetype": "text/x-python",
   "name": "python",
   "nbconvert_exporter": "python",
   "pygments_lexer": "ipython3",
   "version": "3.11.5"
  }
 },
 "nbformat": 4,
 "nbformat_minor": 5
}
