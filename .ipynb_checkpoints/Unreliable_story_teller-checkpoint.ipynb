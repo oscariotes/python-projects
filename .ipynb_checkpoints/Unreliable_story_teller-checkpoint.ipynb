{
 "cells": [
  {
   "cell_type": "code",
   "execution_count": 27,
   "id": "55d8343f",
   "metadata": {},
   "outputs": [
    {
     "ename": "SyntaxError",
     "evalue": "invalid syntax. Perhaps you forgot a comma? (1097252682.py, line 59)",
     "output_type": "error",
     "traceback": [
      "\u001b[0;36m  Cell \u001b[0;32mIn[27], line 59\u001b[0;36m\u001b[0m\n\u001b[0;31m    print(story.replace(f{{{word_class}}}))\u001b[0m\n\u001b[0m                        ^\u001b[0m\n\u001b[0;31mSyntaxError\u001b[0m\u001b[0;31m:\u001b[0m invalid syntax. Perhaps you forgot a comma?\n"
     ]
    }
   ],
   "source": [
    "def get_user_input(word_class):\n",
    "    user_input = input(f'Enter a {word_class}')\n",
    "    return get_user_input\n",
    "\n",
    "name = get_user_input('What is your name: ')\n",
    "place  = get_user_input('Place or location: ')\n",
    "\n",
    "story = f\"\"\"\n",
    "\n",
    "{name} strolled through the {place}, twirling her umbrella and humming a tune. \n",
    "\n",
    "Suddenly, she spotted Max, her old friend, attempting to juggle apples on a park bench.\n",
    "\n",
    "\"Claire! Fancy seeing you here,\" Max exclaimed, an apple nearly escaping his grasp.\n",
    "\n",
    "\"Max, what in the world are you doing?\" Claire chuckled.\n",
    "\n",
    "\"Juggling, obviously. Trying to impress the squirrels,\" Max grinned, juggling slightly more successfully.\n",
    "\n",
    "\"The squirrels don't seem too impressed,\" Claire giggled, gesturing at a nearby group of squirrels \n",
    "\n",
    "munching on acorns.\n",
    "\n",
    "\"They have high standards,\" Max quipped, almost dropping another apple.\n",
    "\n",
    "Claire took a seat beside Max, suppressing laughter. \"So, how's life treating you, Mr. Juggler?\"\n",
    "\n",
    "\"Oh, you know, juggling work, juggling hobbies. Trying not to drop any of the important stuff,\" \n",
    "\n",
    "Max replied, winking as an apple tumbled to the ground.\n",
    "\n",
    "\"I see you're excelling at the juggling part,\" Claire teased, picking up the fallen apple.\n",
    "\n",
    "\"Just getting a head start on my fruit picking for the day,\" Max said, accepting the rescued apple with a grin.\n",
    "\n",
    "As Claire handed the apple back, she noticed a squirrel eyeing them curiously.\n",
    "\n",
    "\"I think you've got a new audience, Max.\"\n",
    "\n",
    "Max glanced at the squirrel. \"Ah, my toughest critic yet. Prepare to be amazed, little buddy!\" \n",
    "\n",
    "He juggled a bit more, earning a nod of approval from the intrigued squirrel.\n",
    "\n",
    "Claire chuckled. \"I think you've won them over, Max.\"\n",
    "\n",
    "\"Just call me the squirrel whisperer,\" Max joked, finally managing a flawless juggle.\n",
    "\n",
    "The two burst into laughter, enjoying the playful banter and the comical scene unfolding before them. \n",
    "\n",
    "With smiles on their faces, they sat in the park, sharing stories and enjoying \n",
    "\n",
    "each other's company as the day rolled on.\n",
    "\n",
    "\n",
    "\n",
    "\n",
    "\"\"\"\n",
    "\n",
    "print(story.replace(f'{{'{word_class}'}}))\n",
    "\n",
    "\n",
    "\n",
    "\n",
    "\n",
    "\n",
    "\n",
    "\n",
    "\n",
    "\n"
   ]
  },
  {
   "cell_type": "code",
   "execution_count": null,
   "id": "d2229043",
   "metadata": {},
   "outputs": [],
   "source": []
  },
  {
   "cell_type": "code",
   "execution_count": null,
   "id": "604cad21",
   "metadata": {},
   "outputs": [],
   "source": []
  }
 ],
 "metadata": {
  "kernelspec": {
   "display_name": "Python 3 (ipykernel)",
   "language": "python",
   "name": "python3"
  },
  "language_info": {
   "codemirror_mode": {
    "name": "ipython",
    "version": 3
   },
   "file_extension": ".py",
   "mimetype": "text/x-python",
   "name": "python",
   "nbconvert_exporter": "python",
   "pygments_lexer": "ipython3",
   "version": "3.11.5"
  }
 },
 "nbformat": 4,
 "nbformat_minor": 5
}
