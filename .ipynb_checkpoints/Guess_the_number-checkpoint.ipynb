{
 "cells": [
  {
   "cell_type": "code",
   "execution_count": null,
   "id": "a216820f",
   "metadata": {},
   "outputs": [],
   "source": [
    "from random import randint"
   ]
  },
  {
   "cell_type": "code",
   "execution_count": null,
   "id": "be9e0388",
   "metadata": {},
   "outputs": [],
   "source": [
    "lowerN, higherN = 1, 20\n",
    "randomNumber= int(randint(lowerN, higherN))\n",
    "print(randomNumber)"
   ]
  },
  {
   "cell_type": "code",
   "execution_count": null,
   "id": "d3dac0d3",
   "metadata": {},
   "outputs": [],
   "source": [
    "while True:\n",
    "    try:\n",
    "      user_input = int(input('Guess the number between 1 to 20: '))\n",
    "    except ValueError as e:\n",
    "      print('Please enter a valid number')\n",
    "    continue"
   ]
  },
  {
   "cell_type": "code",
   "execution_count": null,
   "id": "dcb97dd4",
   "metadata": {},
   "outputs": [],
   "source": [
    "    "
   ]
  }
 ],
 "metadata": {
  "kernelspec": {
   "display_name": "Python 3 (ipykernel)",
   "language": "python",
   "name": "python3"
  },
  "language_info": {
   "codemirror_mode": {
    "name": "ipython",
    "version": 3
   },
   "file_extension": ".py",
   "mimetype": "text/x-python",
   "name": "python",
   "nbconvert_exporter": "python",
   "pygments_lexer": "ipython3",
   "version": "3.11.5"
  }
 },
 "nbformat": 4,
 "nbformat_minor": 5
}
