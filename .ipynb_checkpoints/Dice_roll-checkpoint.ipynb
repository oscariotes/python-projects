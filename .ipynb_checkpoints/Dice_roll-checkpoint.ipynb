{
 "cells": [
  {
   "cell_type": "code",
   "execution_count": null,
   "id": "4447fc6f",
   "metadata": {},
   "outputs": [],
   "source": [
    "import random\n",
    "\n",
    "def dice_roll():\n",
    "    roll = random.randint(1,6)\n",
    "    return roll\n",
    "\n",
    "def rolling():\n",
    "  \n",
    "  while True:\n",
    "    try: \n",
    "        user_input = int(input('How many rolls?: '))\n",
    "        if user_input <= 0:\n",
    "            print('Please enter non-zero number.')\n",
    "        \n",
    "        else:\n",
    "            rolls_list = []\n",
    "        \n",
    "            for _ in range(user_input):\n",
    "                value = dice_roll()  \n",
    "                rolls_list.append(value)\n",
    "            \n",
    "            print(*rolls_list)\n",
    "            print('the sum is ',sum(rolls_list))\n",
    "            break\n",
    "    except ValueError:\n",
    "        print('Invalid number')\n",
    "            \n",
    "\n",
    "if __name__ == '__main__':\n",
    "    \n",
    "  rolling()\n"
   ]
  },
  {
   "cell_type": "code",
   "execution_count": null,
   "id": "529f49b4",
   "metadata": {},
   "outputs": [],
   "source": []
  }
 ],
 "metadata": {
  "kernelspec": {
   "display_name": "Python 3 (ipykernel)",
   "language": "python",
   "name": "python3"
  },
  "language_info": {
   "codemirror_mode": {
    "name": "ipython",
    "version": 3
   },
   "file_extension": ".py",
   "mimetype": "text/x-python",
   "name": "python",
   "nbconvert_exporter": "python",
   "pygments_lexer": "ipython3",
   "version": "3.11.5"
  }
 },
 "nbformat": 4,
 "nbformat_minor": 5
}
