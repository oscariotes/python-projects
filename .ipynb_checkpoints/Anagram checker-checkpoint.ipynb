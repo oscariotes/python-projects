{
 "cells": [
  {
   "cell_type": "markdown",
   "id": "8d46f257",
   "metadata": {},
   "source": [
    "## Exercise: Anagram Checker\n",
    "\n",
    "   ### Objective: Write a Python function to check if two strings are anagrams of each other.\n",
    "    \n",
    "    Steps:\n",
    "    \n",
    "        Create a function is_anagram(str1, str2) that takes two strings as arguments.\n",
    "        Check if the two strings contain the same characters in any order (anagrams).\n",
    "        Return True if they are anagrams and False otherwise.\n",
    "        Ensure the function handles input strings of different lengths and different characters.\n",
    "        \n",
    "    Hints for Implementation:\n",
    "    \n",
    "        Convert both strings to lowercase to ignore case sensitivity.\n",
    "        Remove spaces and punctuation marks from the strings for accurate comparison.\n",
    "        Sort the characters of both strings (after normalization) and compare the sorted strings.\n",
    "        Handle special cases where the strings are of different lengths or contain different characters.\n",
    "        \n",
    "        \n",
    "        \n",
    "        "
   ]
  },
  {
   "cell_type": "code",
   "execution_count": null,
   "id": "c93020a8",
   "metadata": {},
   "outputs": [],
   "source": [
    "def is_anagram(str1, str2):\n",
    "    # Normalize the strings (convert to lowercase, remove spaces/punctuation)\n",
    "    # Compare the sorted characters of both strings\n",
    "    # Return True if they are anagrams, False otherwise\n",
    "\n",
    "# Test cases:\n",
    "print(is_anagram(\"listen\", \"silent\"))  # Expected output: True\n",
    "print(is_anagram(\"hello\", \"world\"))   # Expected output: False\n",
    "print(is_anagram(\"debit card\", \"bad credit\"))  # Expected output: True\n"
   ]
  }
 ],
 "metadata": {
  "kernelspec": {
   "display_name": "Python 3 (ipykernel)",
   "language": "python",
   "name": "python3"
  },
  "language_info": {
   "codemirror_mode": {
    "name": "ipython",
    "version": 3
   },
   "file_extension": ".py",
   "mimetype": "text/x-python",
   "name": "python",
   "nbconvert_exporter": "python",
   "pygments_lexer": "ipython3",
   "version": "3.11.5"
  }
 },
 "nbformat": 4,
 "nbformat_minor": 5
}
