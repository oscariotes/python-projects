{
 "cells": [
  {
   "cell_type": "code",
   "execution_count": null,
   "id": "51fe18be",
   "metadata": {},
   "outputs": [],
   "source": [
    "from random import randint\n",
    "\n",
    "randomNumber = randint(1, 10)\n",
    "guess_counter = 5\n",
    "print('Guess the number in five attempts!')\n",
    "\n",
    "while guess_counter > 0:  # Loop while guess_counter is greater than 0\n",
    "    try:\n",
    "        user_input = int(input('Guess the number: '))\n",
    "    except ValueError as e:\n",
    "        print('Please enter a valid number')\n",
    "        continue  # Continue the loop after an invalid input\n",
    "\n",
    "    if user_input > randomNumber:\n",
    "        guess_counter -= 1\n",
    "        print(f'The number {user_input} is greater and you have {guess_counter} tries remaining')\n",
    "    elif user_input < randomNumber:\n",
    "        guess_counter -= 1\n",
    "        print(f'The number {user_input} is lower and you have {guess_counter} tries remaining')\n",
    "    else:\n",
    "        print(f'You\\'ve guessed it right, the number is {randomNumber}!')\n",
    "        break  # Exit the loop if the guess is correct\n",
    "\n",
    "if guess_counter == 0:\n",
    "    print(f'You failed the attempts. The number was {randomNumber}.')"
   ]
  },
  {
   "cell_type": "code",
   "execution_count": null,
   "id": "08dbeb81",
   "metadata": {},
   "outputs": [],
   "source": []
  }
 ],
 "metadata": {
  "kernelspec": {
   "display_name": "Python 3 (ipykernel)",
   "language": "python",
   "name": "python3"
  },
  "language_info": {
   "codemirror_mode": {
    "name": "ipython",
    "version": 3
   },
   "file_extension": ".py",
   "mimetype": "text/x-python",
   "name": "python",
   "nbconvert_exporter": "python",
   "pygments_lexer": "ipython3",
   "version": "3.11.5"
  }
 },
 "nbformat": 4,
 "nbformat_minor": 5
}
